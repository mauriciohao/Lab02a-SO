{
  "nbformat": 4,
  "nbformat_minor": 0,
  "metadata": {
    "colab": {
      "provenance": []
    },
    "kernelspec": {
      "name": "python3",
      "display_name": "Python 3"
    },
    "language_info": {
      "name": "python"
    }
  },
  "cells": [
    {
      "cell_type": "code",
      "source": [
        "!wget https://colab.research.google.com/drive/1Te4m1xpq7WJnqhM9NVHivIqfLGFAEgfu#scrollTo=-yS4xZjkr82R\n",
        "from IPython.display import Image\n",
        "Image(filename='image.png')"
      ],
      "metadata": {
        "id": "-yS4xZjkr82R"
      },
      "execution_count": null,
      "outputs": []
    },
    {
      "cell_type": "code",
      "execution_count": 28,
      "metadata": {
        "colab": {
          "base_uri": "https://localhost:8080/"
        },
        "id": "lD3PYkU0IJdi",
        "outputId": "c89cc688-2050-45f6-9db9-cedcb0160b58"
      },
      "outputs": [
        {
          "output_type": "stream",
          "name": "stdout",
          "text": [
            "Reading package lists... Done\n",
            "Building dependency tree... Done\n",
            "Reading state information... Done\n",
            "libopenmpi-dev is already the newest version (4.1.2-2ubuntu1).\n",
            "openmpi-bin is already the newest version (4.1.2-2ubuntu1).\n",
            "openmpi-common is already the newest version (4.1.2-2ubuntu1).\n",
            "0 upgraded, 0 newly installed, 0 to remove and 29 not upgraded.\n"
          ]
        }
      ],
      "source": [
        "!apt install openmpi-bin openmpi-common libopenmpi-dev"
      ]
    },
    {
      "cell_type": "code",
      "source": [
        "%%writefile Scatter_Gather.c\n",
        "#include \"mpi.h\"\n",
        "#include <stdio.h>\n",
        "#include <stdlib.h>\n",
        "#include <math.h>\n",
        "\n",
        "#define PI 3.14159265358979323846\n",
        "\n",
        "int main(int argc, char **argv) {\n",
        "    int myid, numprocs;\n",
        "    int n = 1000000;\n",
        "    double local_sum = 0.0, global_sum = 0.0;\n",
        "    double factor;\n",
        "    int local_n, start, end;\n",
        "\n",
        "    MPI_Init(&argc, &argv);\n",
        "    MPI_Comm_size(MPI_COMM_WORLD, &numprocs);\n",
        "    MPI_Comm_rank(MPI_COMM_WORLD, &myid);\n",
        "\n",
        "    local_n = n / numprocs;\n",
        "    start = myid * local_n;\n",
        "    end = start + local_n;\n",
        "\n",
        "    if (myid == numprocs - 1) {\n",
        "        end = n;\n",
        "    }\n",
        "\n",
        "\n",
        "    for (int i = start; i < end; i++) {\n",
        "        factor = (i % 2 == 0) ? 1.0 : -1.0;\n",
        "        local_sum += factor / (2 * i + 1);\n",
        "    }\n",
        "\n",
        "\n",
        "    double *all_sums = NULL;\n",
        "    if (myid == 0) {\n",
        "        all_sums = (double *)malloc(numprocs * sizeof(double));\n",
        "    }\n",
        "    MPI_Gather(&local_sum, 1, MPI_DOUBLE, all_sums, 1, MPI_DOUBLE, 0, MPI_COMM_WORLD);\n",
        "\n",
        "    if (myid == 0) {\n",
        "        global_sum = 0.0;\n",
        "        for (int i = 0; i < numprocs; i++) {\n",
        "            global_sum += all_sums[i];\n",
        "        }\n",
        "        global_sum *= 4.0;\n",
        "        printf(\"Calculated Pi: %.16f\\n\", global_sum);\n",
        "        free(all_sums);\n",
        "    }\n",
        "\n",
        "    MPI_Finalize();\n",
        "    return 0;\n",
        "}\n"
      ],
      "metadata": {
        "colab": {
          "base_uri": "https://localhost:8080/"
        },
        "id": "-HNO2O-ZIeR3",
        "outputId": "6546c9a6-1a97-4c68-9ad4-8371fe24f5a8"
      },
      "execution_count": 18,
      "outputs": [
        {
          "output_type": "stream",
          "name": "stdout",
          "text": [
            "Overwriting Scatter_Gather.c\n"
          ]
        }
      ]
    },
    {
      "cell_type": "code",
      "source": [
        "!mpicc -o Scatter_Gather Scatter_Gather.c"
      ],
      "metadata": {
        "id": "ecYxeSE8ImQx"
      },
      "execution_count": 19,
      "outputs": []
    },
    {
      "cell_type": "code",
      "source": [
        "!mpiexec  --allow-run-as-root --oversubscribe -n 2 ./Scatter_Gather\n",
        "!mpiexec  --allow-run-as-root --oversubscribe -n 4 ./Scatter_Gather\n",
        "!mpiexec  --allow-run-as-root --oversubscribe -n 8 ./Scatter_Gather"
      ],
      "metadata": {
        "colab": {
          "base_uri": "https://localhost:8080/"
        },
        "id": "lR0jChgDM1jY",
        "outputId": "6b285419-5df3-4927-d57d-0c0f67e667b5"
      },
      "execution_count": 23,
      "outputs": [
        {
          "output_type": "stream",
          "name": "stdout",
          "text": [
            "Calculated Pi: 3.1415916535896922\n",
            "Calculated Pi: 3.1415916535897810\n",
            "Calculated Pi: 3.1415916535897277\n"
          ]
        }
      ]
    },
    {
      "cell_type": "code",
      "source": [
        "%%writefile Send_Receive.c\n",
        "#include \"mpi.h\"\n",
        "#include <stdio.h>\n",
        "#include <stdlib.h>\n",
        "#include <math.h>\n",
        "\n",
        "#define PI 3.14159265358979323846\n",
        "\n",
        "int main(int argc, char **argv) {\n",
        "    int myid, numprocs;\n",
        "    int n = 1000000;\n",
        "    double local_sum = 0.0, global_sum = 0.0;\n",
        "    double factor;\n",
        "    int local_n, start, end;\n",
        "\n",
        "    MPI_Init(&argc, &argv);\n",
        "    MPI_Comm_size(MPI_COMM_WORLD, &numprocs);\n",
        "    MPI_Comm_rank(MPI_COMM_WORLD, &myid);\n",
        "\n",
        "    local_n = n / numprocs;\n",
        "    start = myid * local_n;\n",
        "    end = start + local_n;\n",
        "\n",
        "    if (myid == numprocs - 1) {\n",
        "        end = n;\n",
        "    }\n",
        "\n",
        "    for (int i = start; i < end; i++) {\n",
        "        factor = (i % 2 == 0) ? 1.0 : -1.0;\n",
        "        local_sum += factor / (2 * i + 1);\n",
        "    }\n",
        "\n",
        "    if (myid != 0) {\n",
        "        MPI_Send(&local_sum, 1, MPI_DOUBLE, 0, 0, MPI_COMM_WORLD);\n",
        "    } else {\n",
        "        global_sum = local_sum;\n",
        "        for (int i = 1; i < numprocs; i++) {\n",
        "            MPI_Recv(&local_sum, 1, MPI_DOUBLE, i, 0, MPI_COMM_WORLD, MPI_STATUS_IGNORE);\n",
        "            global_sum += local_sum;\n",
        "        }\n",
        "        global_sum *= 4.0;\n",
        "        printf(\"Calculated Pi: %.16f\\n\", global_sum);\n",
        "    }\n",
        "\n",
        "    MPI_Finalize();\n",
        "    return 0;\n",
        "}\n"
      ],
      "metadata": {
        "colab": {
          "base_uri": "https://localhost:8080/"
        },
        "id": "vawTmoKdp02e",
        "outputId": "4c6006b7-c691-437a-bf12-49b4d9eaf3d7"
      },
      "execution_count": 25,
      "outputs": [
        {
          "output_type": "stream",
          "name": "stdout",
          "text": [
            "Writing Send_Receive.c\n"
          ]
        }
      ]
    },
    {
      "cell_type": "code",
      "source": [
        "!mpicc -o Send_Receive Send_Receive.c"
      ],
      "metadata": {
        "id": "i0EtfYwaqMXQ"
      },
      "execution_count": 26,
      "outputs": []
    },
    {
      "cell_type": "code",
      "source": [
        "!mpiexec  --allow-run-as-root --oversubscribe -n 2 ./Send_Receive\n",
        "!mpiexec  --allow-run-as-root --oversubscribe -n 4 ./Send_Receive\n",
        "!mpiexec  --allow-run-as-root --oversubscribe -n 8 ./Send_Receive"
      ],
      "metadata": {
        "colab": {
          "base_uri": "https://localhost:8080/"
        },
        "id": "BvskGfSjqQsZ",
        "outputId": "a8c95c0d-ebfe-4a14-a1cc-1d0b1e3ba38d"
      },
      "execution_count": 27,
      "outputs": [
        {
          "output_type": "stream",
          "name": "stdout",
          "text": [
            "Calculated Pi: 3.1415916535896922\n",
            "Calculated Pi: 3.1415916535897810\n",
            "Calculated Pi: 3.1415916535897277\n"
          ]
        }
      ]
    }
  ]
}